{
 "cells": [
  {
   "cell_type": "markdown",
   "id": "34023367",
   "metadata": {},
   "source": [
    "## <font color = purple> Twitter Sentiment Analysis </font>"
   ]
  },
  {
   "cell_type": "code",
   "execution_count": 44,
   "id": "10ed25c0",
   "metadata": {},
   "outputs": [],
   "source": [
    "# import libraries\n",
    "import os \n",
    "import pandas as pd\n",
    "import nltk\n",
    "import seaborn as sns"
   ]
  },
  {
   "cell_type": "code",
   "execution_count": 7,
   "id": "b49d7cf3",
   "metadata": {},
   "outputs": [
    {
     "data": {
      "text/html": [
       "<div>\n",
       "<style scoped>\n",
       "    .dataframe tbody tr th:only-of-type {\n",
       "        vertical-align: middle;\n",
       "    }\n",
       "\n",
       "    .dataframe tbody tr th {\n",
       "        vertical-align: top;\n",
       "    }\n",
       "\n",
       "    .dataframe thead th {\n",
       "        text-align: right;\n",
       "    }\n",
       "</style>\n",
       "<table border=\"1\" class=\"dataframe\">\n",
       "  <thead>\n",
       "    <tr style=\"text-align: right;\">\n",
       "      <th></th>\n",
       "      <th>#</th>\n",
       "      <th>Refers to</th>\n",
       "      <th>Sentiment</th>\n",
       "      <th>Text</th>\n",
       "    </tr>\n",
       "  </thead>\n",
       "  <tbody>\n",
       "    <tr>\n",
       "      <th>0</th>\n",
       "      <td>2401</td>\n",
       "      <td>Borderlands</td>\n",
       "      <td>Positive</td>\n",
       "      <td>im getting on borderlands and i will murder yo...</td>\n",
       "    </tr>\n",
       "    <tr>\n",
       "      <th>1</th>\n",
       "      <td>2401</td>\n",
       "      <td>Borderlands</td>\n",
       "      <td>Positive</td>\n",
       "      <td>I am coming to the borders and I will kill you...</td>\n",
       "    </tr>\n",
       "    <tr>\n",
       "      <th>2</th>\n",
       "      <td>2401</td>\n",
       "      <td>Borderlands</td>\n",
       "      <td>Positive</td>\n",
       "      <td>im getting on borderlands and i will kill you ...</td>\n",
       "    </tr>\n",
       "    <tr>\n",
       "      <th>3</th>\n",
       "      <td>2401</td>\n",
       "      <td>Borderlands</td>\n",
       "      <td>Positive</td>\n",
       "      <td>im coming on borderlands and i will murder you...</td>\n",
       "    </tr>\n",
       "    <tr>\n",
       "      <th>4</th>\n",
       "      <td>2401</td>\n",
       "      <td>Borderlands</td>\n",
       "      <td>Positive</td>\n",
       "      <td>im getting on borderlands 2 and i will murder ...</td>\n",
       "    </tr>\n",
       "  </tbody>\n",
       "</table>\n",
       "</div>"
      ],
      "text/plain": [
       "      #    Refers to Sentiment  \\\n",
       "0  2401  Borderlands  Positive   \n",
       "1  2401  Borderlands  Positive   \n",
       "2  2401  Borderlands  Positive   \n",
       "3  2401  Borderlands  Positive   \n",
       "4  2401  Borderlands  Positive   \n",
       "\n",
       "                                                Text  \n",
       "0  im getting on borderlands and i will murder yo...  \n",
       "1  I am coming to the borders and I will kill you...  \n",
       "2  im getting on borderlands and i will kill you ...  \n",
       "3  im coming on borderlands and i will murder you...  \n",
       "4  im getting on borderlands 2 and i will murder ...  "
      ]
     },
     "execution_count": 7,
     "metadata": {},
     "output_type": "execute_result"
    }
   ],
   "source": [
    "# Read the data\n",
    "df = pd.read_csv(\"twitter_training.csv\", header = None)\n",
    "df.columns = ['#', 'Refers to', 'Sentiment', 'Text']\n",
    "df.head()"
   ]
  },
  {
   "cell_type": "code",
   "execution_count": 8,
   "id": "365c008c",
   "metadata": {},
   "outputs": [
    {
     "data": {
      "text/plain": [
       "#              0\n",
       "Refers to      0\n",
       "Sentiment      0\n",
       "Text         686\n",
       "dtype: int64"
      ]
     },
     "execution_count": 8,
     "metadata": {},
     "output_type": "execute_result"
    }
   ],
   "source": [
    "# Checking for nulls\n",
    "df.isnull().sum()"
   ]
  },
  {
   "cell_type": "code",
   "execution_count": 9,
   "id": "d97ec93d",
   "metadata": {},
   "outputs": [
    {
     "data": {
      "text/plain": [
       "(73996, 4)"
      ]
     },
     "execution_count": 9,
     "metadata": {},
     "output_type": "execute_result"
    }
   ],
   "source": [
    "# Remove nulls\n",
    "df.dropna(inplace=True, axis=0)\n",
    "df.head()\n",
    "df.shape"
   ]
  },
  {
   "cell_type": "code",
   "execution_count": 10,
   "id": "f4baf76e",
   "metadata": {},
   "outputs": [],
   "source": [
    "# Word tokenization using nltk\n",
    "from string import punctuation\n",
    "stop = nltk.corpus.stopwords.words('english') + list(punctuation)\n",
    "from nltk.stem import WordNetLemmatizer"
   ]
  },
  {
   "cell_type": "code",
   "execution_count": 16,
   "id": "589717a4",
   "metadata": {},
   "outputs": [
    {
     "data": {
      "text/html": [
       "<div>\n",
       "<style scoped>\n",
       "    .dataframe tbody tr th:only-of-type {\n",
       "        vertical-align: middle;\n",
       "    }\n",
       "\n",
       "    .dataframe tbody tr th {\n",
       "        vertical-align: top;\n",
       "    }\n",
       "\n",
       "    .dataframe thead th {\n",
       "        text-align: right;\n",
       "    }\n",
       "</style>\n",
       "<table border=\"1\" class=\"dataframe\">\n",
       "  <thead>\n",
       "    <tr style=\"text-align: right;\">\n",
       "      <th></th>\n",
       "      <th>#</th>\n",
       "      <th>Refers to</th>\n",
       "      <th>Sentiment</th>\n",
       "      <th>Text</th>\n",
       "      <th>Clean_text</th>\n",
       "    </tr>\n",
       "  </thead>\n",
       "  <tbody>\n",
       "    <tr>\n",
       "      <th>0</th>\n",
       "      <td>2401</td>\n",
       "      <td>Borderlands</td>\n",
       "      <td>Positive</td>\n",
       "      <td>im getting on borderlands and i will murder yo...</td>\n",
       "      <td>im getting borderland murder</td>\n",
       "    </tr>\n",
       "    <tr>\n",
       "      <th>1</th>\n",
       "      <td>2401</td>\n",
       "      <td>Borderlands</td>\n",
       "      <td>Positive</td>\n",
       "      <td>I am coming to the borders and I will kill you...</td>\n",
       "      <td>I coming border I kill</td>\n",
       "    </tr>\n",
       "    <tr>\n",
       "      <th>2</th>\n",
       "      <td>2401</td>\n",
       "      <td>Borderlands</td>\n",
       "      <td>Positive</td>\n",
       "      <td>im getting on borderlands and i will kill you ...</td>\n",
       "      <td>im getting borderland kill</td>\n",
       "    </tr>\n",
       "    <tr>\n",
       "      <th>3</th>\n",
       "      <td>2401</td>\n",
       "      <td>Borderlands</td>\n",
       "      <td>Positive</td>\n",
       "      <td>im coming on borderlands and i will murder you...</td>\n",
       "      <td>im coming borderland murder</td>\n",
       "    </tr>\n",
       "    <tr>\n",
       "      <th>4</th>\n",
       "      <td>2401</td>\n",
       "      <td>Borderlands</td>\n",
       "      <td>Positive</td>\n",
       "      <td>im getting on borderlands 2 and i will murder ...</td>\n",
       "      <td>im getting borderland 2 murder</td>\n",
       "    </tr>\n",
       "  </tbody>\n",
       "</table>\n",
       "</div>"
      ],
      "text/plain": [
       "      #    Refers to Sentiment  \\\n",
       "0  2401  Borderlands  Positive   \n",
       "1  2401  Borderlands  Positive   \n",
       "2  2401  Borderlands  Positive   \n",
       "3  2401  Borderlands  Positive   \n",
       "4  2401  Borderlands  Positive   \n",
       "\n",
       "                                                Text  \\\n",
       "0  im getting on borderlands and i will murder yo...   \n",
       "1  I am coming to the borders and I will kill you...   \n",
       "2  im getting on borderlands and i will kill you ...   \n",
       "3  im coming on borderlands and i will murder you...   \n",
       "4  im getting on borderlands 2 and i will murder ...   \n",
       "\n",
       "                       Clean_text  \n",
       "0    im getting borderland murder  \n",
       "1          I coming border I kill  \n",
       "2      im getting borderland kill  \n",
       "3     im coming borderland murder  \n",
       "4  im getting borderland 2 murder  "
      ]
     },
     "execution_count": 16,
     "metadata": {},
     "output_type": "execute_result"
    }
   ],
   "source": [
    "# Cleaning the text data\n",
    "def cleaner(sentence):\n",
    "    # tokenize the text\n",
    "    clean = nltk.word_tokenize(sentence)\n",
    "    # remove stopwords\n",
    "    clean = [i for i in clean if not i in stop]\n",
    "    # lemmatize\n",
    "    lemmatizer = WordNetLemmatizer()\n",
    "    clean = [lemmatizer.lemmatize(i) for i in clean]\n",
    "    \n",
    "    return \" \".join(clean)\n",
    "\n",
    "cleaner(df[\"Text\"][0])\n",
    "\n",
    "df[\"Clean_text\"] = list(map(cleaner, df[\"Text\"]))\n",
    "df.head()"
   ]
  },
  {
   "cell_type": "code",
   "execution_count": 17,
   "id": "405ba0f4",
   "metadata": {
    "scrolled": true
   },
   "outputs": [
    {
     "data": {
      "text/plain": [
       "0      im getting borderland murder\n",
       "1            I coming border I kill\n",
       "2        im getting borderland kill\n",
       "3       im coming borderland murder\n",
       "4    im getting borderland 2 murder\n",
       "Name: Clean_text, dtype: object"
      ]
     },
     "execution_count": 17,
     "metadata": {},
     "output_type": "execute_result"
    }
   ],
   "source": [
    "df[\"Clean_text\"].head()"
   ]
  },
  {
   "cell_type": "markdown",
   "id": "3182cc35",
   "metadata": {},
   "source": [
    "### Visualization"
   ]
  },
  {
   "cell_type": "code",
   "execution_count": 32,
   "id": "058193c0",
   "metadata": {},
   "outputs": [
    {
     "data": {
      "image/png": "[encoded data removed]",
      "text/plain": [
       "<Figure size 360x360 with 1 Axes>"
      ]
     },
     "metadata": {},
     "output_type": "display_data"
    }
   ],
   "source": [
    "# Target analysis\n",
    "target_balance = df[\"Sentiment\"].value_counts()\n",
    "\n",
    "plt.figure(figsize=(5, 5))\n",
    "plt.pie(target_balance, labels=[f'{idx}\\n{round(target_balance[idx]/len(df), 2)}' for idx in target_balance.index], \n",
    "        colors=['r', '#00FF00', '#FFFF00', 'gray'])\n",
    "plt.title('Proportions of target classes')\n",
    "plt.show()"
   ]
  },
  {
   "cell_type": "code",
   "execution_count": 42,
   "id": "1e0e5614",
   "metadata": {},
   "outputs": [],
   "source": [
    "# Top words\n",
    "import re\n",
    "from nltk.corpus import stopwords\n",
    "stopwords_list = stopwords.words('english')\n",
    "\n",
    "word_counts = {'Positive': [],\n",
    "                'Neutral': [],\n",
    "                'Irrelevant': [],\n",
    "                'Negative': []}\n",
    "\n",
    "pattern = re.compile('[^\\w ]')\n",
    "for text, t in zip(df['Text'], df[\"Sentiment\"]):\n",
    "    text = re.sub(pattern, '', text).lower().split()\n",
    "    text = [word for word in text if word not in stopwords_list]\n",
    "    word_counts[t].extend(text)"
   ]
  },
  {
   "cell_type": "code",
   "execution_count": 51,
   "id": "1aec421e",
   "metadata": {},
   "outputs": [
    {
     "data": {
      "image/png": "[encoded data removed]",
      "text/plain": [
       "<Figure size 1440x756 with 4 Axes>"
      ]
     },
     "metadata": {
      "needs_background": "light"
     },
     "output_type": "display_data"
    }
   ],
   "source": [
    "fig, axes = plt.subplots(2, 2, figsize=(20,10.5))\n",
    "for axis, (target, words) in zip(axes.flatten(), word_counts.items()):\n",
    "    bar_info = pd.Series(words).value_counts()[:25]\n",
    "    sns.barplot(x=bar_info.values, y=bar_info.index, ax=axis)\n",
    "    axis.set_title(f'Top words for {target}')\n",
    "plt.show()"
   ]
  },
  {
   "cell_type": "markdown",
   "id": "4a39dcd1",
   "metadata": {},
   "source": [
    "### Building a regression model"
   ]
  },
  {
   "cell_type": "code",
   "execution_count": 18,
   "id": "7407bec1",
   "metadata": {},
   "outputs": [],
   "source": [
    "# Initialize a NLP model\n",
    "from sklearn.feature_extraction.text import CountVectorizer\n",
    "from sklearn.model_selection import train_test_split\n",
    "from sklearn.naive_bayes import MultinomialNB\n",
    "from sklearn.metrics import accuracy_score"
   ]
  },
  {
   "cell_type": "code",
   "execution_count": 19,
   "id": "9a0d32f5",
   "metadata": {},
   "outputs": [],
   "source": [
    "# Identify x and y\n",
    "x = df[\"Clean_text\"]\n",
    "y = df[\"Sentiment\"]"
   ]
  },
  {
   "cell_type": "code",
   "execution_count": 58,
   "id": "3f4bcd45",
   "metadata": {},
   "outputs": [
    {
     "name": "stdout",
     "output_type": "stream",
     "text": [
      "['00' '000' '00011' ... 'การออกอากาศของฉ' 'นจาก' 'ℐℓ٥']\n"
     ]
    }
   ],
   "source": [
    "# Vectorize the data\n",
    "vector = CountVectorizer()\n",
    "X = vector.fit_transform(x)\n",
    "print(vector.get_feature_names_out())\n",
    "# X.toarray()\n",
    "\n",
    "# dy = pd.DataFrame(X.toarray(), columns = vector.get_feature_names_out())\n",
    "# dy.head()"
   ]
  },
  {
   "cell_type": "code",
   "execution_count": 21,
   "id": "72818892",
   "metadata": {},
   "outputs": [
    {
     "data": {
      "text/plain": [
       "MultinomialNB()"
      ]
     },
     "execution_count": 21,
     "metadata": {},
     "output_type": "execute_result"
    }
   ],
   "source": [
    "# Create a train test split\n",
    "x_train, x_test,y_train,y_test = train_test_split(X,y)\n",
    "model =  MultinomialNB()\n",
    "# Train the model\n",
    "model.fit(x_train,y_train)"
   ]
  },
  {
   "cell_type": "code",
   "execution_count": 22,
   "id": "575c0294",
   "metadata": {},
   "outputs": [
    {
     "name": "stdout",
     "output_type": "stream",
     "text": [
      "0.7492837450673009\n"
     ]
    }
   ],
   "source": [
    "# Accuracy of the model \n",
    "pred = model.predict(x_test)\n",
    "print(accuracy_score(pred, y_test))"
   ]
  },
  {
   "cell_type": "markdown",
   "id": "932856ab",
   "metadata": {},
   "source": [
    "### Testing the model"
   ]
  },
  {
   "cell_type": "code",
   "execution_count": 26,
   "id": "569b9d62",
   "metadata": {},
   "outputs": [],
   "source": [
    "# Testing the model\n",
    "quest = [ \"He is a very cocky person\",\n",
    " \"You are an asshole\",\n",
    " \"You are very beautiful\",\n",
    " \"Safaricom is the best company in Kenya\",\n",
    " \"The city has very clean pavements\",\n",
    " \"His girlfriend is a very mean person\"\n",
    " ]"
   ]
  },
  {
   "cell_type": "code",
   "execution_count": 27,
   "id": "d45b0c78",
   "metadata": {},
   "outputs": [],
   "source": [
    "def predictor(text):\n",
    "  text = cleaner(text)\n",
    "  text = [text]\n",
    "  final = vector.transform(text)\n",
    "  prediction = model.predict(final)\n",
    "  return prediction[0]"
   ]
  },
  {
   "cell_type": "code",
   "execution_count": 28,
   "id": "5c647dd1",
   "metadata": {},
   "outputs": [
    {
     "name": "stdout",
     "output_type": "stream",
     "text": [
      "He is a very cocky person ..................Sentiment:Irrelevant\n",
      "You are an asshole ..................Sentiment:Negative\n",
      "You are very beautiful ..................Sentiment:Positive\n",
      "Safaricom is the best company in Kenya ..................Sentiment:Positive\n",
      "The city has very clean pavements ..................Sentiment:Positive\n",
      "His girlfriend is a very mean person ..................Sentiment:Irrelevant\n"
     ]
    }
   ],
   "source": [
    "for question in quest:\n",
    "  print(f\"{question} ..................Sentiment:{predictor(question)}\")"
   ]
  },
  {
   "cell_type": "markdown",
   "id": "dd0b0b0f",
   "metadata": {},
   "source": [
    "### Conclusion"
   ]
  },
  {
   "cell_type": "markdown",
   "id": "0d4c75b3",
   "metadata": {},
   "source": [
    "To solve the given task, the raw data was preprocessed the following way:\n",
    "\n",
    "* Texts were tokenized\n",
    "* Texts were cleaned from nulls, punctuation and stop words\n",
    "* Texts were lemmatized\n",
    "* Texts were vectorized with count Vectorizer.\n",
    "\n",
    "For this task, Linear regression was implemented showing an accuracy score of 75%"
   ]
  }
 ],
 "metadata": {
  "kernelspec": {
   "display_name": "Python 3 (ipykernel)",
   "language": "python",
   "name": "python3"
  },
  "language_info": {
   "codemirror_mode": {
    "name": "ipython",
    "version": 3
   },
   "file_extension": ".py",
   "mimetype": "text/x-python",
   "name": "python",
   "nbconvert_exporter": "python",
   "pygments_lexer": "ipython3",
   "version": "3.10.4"
  }
 },
 "nbformat": 4,
 "nbformat_minor": 5
}
